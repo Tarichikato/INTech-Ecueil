{
 "cells": [
  {
   "cell_type": "code",
   "execution_count": 27,
   "metadata": {},
   "outputs": [
    {
     "name": "stdout",
     "output_type": "stream",
     "text": [
      "Populating the interactive namespace from numpy and matplotlib\n"
     ]
    }
   ],
   "source": [
    "%pylab inline\n",
    "import imageio\n",
    "import time\n",
    "import cv2\n",
    "import numpy as np\n",
    "import copy\n",
    "from matplotlib import pyplot as plt"
   ]
  },
  {
   "cell_type": "code",
   "execution_count": 134,
   "metadata": {},
   "outputs": [
    {
     "name": "stdout",
     "output_type": "stream",
     "text": [
      "0.05\n",
      "1\n",
      "['V', 'V', 'R', 'R', 'R']\n",
      "0.05\n",
      "1\n",
      "['V', 'V', 'R', 'R', 'R']\n",
      "0.05\n",
      "1\n",
      "['V', 'V', 'R', 'R', 'R']\n",
      "0.05\n",
      "1\n",
      "['V', 'V', 'R', 'R', 'R']\n",
      "0.05\n",
      "1\n",
      "['V', 'V', 'R', 'R', 'R']\n",
      "0.05\n",
      "1\n",
      "['V', 'V', 'R', 'R', 'R']\n",
      "0.05\n",
      "1\n",
      "['V', 'V', 'R', 'R', 'R']\n",
      "0.05\n",
      "0.1\n",
      "0.2\n"
     ]
    },
    {
     "ename": "KeyboardInterrupt",
     "evalue": "",
     "output_type": "error",
     "traceback": [
      "\u001b[1;31m---------------------------------------------------------------------------\u001b[0m",
      "\u001b[1;31mKeyboardInterrupt\u001b[0m                         Traceback (most recent call last)",
      "\u001b[1;32m<ipython-input-134-100db52db406>\u001b[0m in \u001b[0;36m<module>\u001b[1;34m\u001b[0m\n\u001b[0;32m     15\u001b[0m         \u001b[0mret\u001b[0m\u001b[1;33m,\u001b[0m \u001b[0mcolor\u001b[0m \u001b[1;33m=\u001b[0m \u001b[0mcap\u001b[0m\u001b[1;33m.\u001b[0m\u001b[0mread\u001b[0m\u001b[1;33m(\u001b[0m\u001b[1;33m)\u001b[0m\u001b[1;33m\u001b[0m\u001b[1;33m\u001b[0m\u001b[0m\n\u001b[0;32m     16\u001b[0m         \u001b[0mcolor_image_rgb\u001b[0m \u001b[1;33m=\u001b[0m\u001b[0mnp\u001b[0m\u001b[1;33m.\u001b[0m\u001b[0marray\u001b[0m\u001b[1;33m(\u001b[0m\u001b[0mcv2\u001b[0m\u001b[1;33m.\u001b[0m\u001b[0mcvtColor\u001b[0m\u001b[1;33m(\u001b[0m\u001b[0mcolor\u001b[0m\u001b[1;33m,\u001b[0m \u001b[0mcv2\u001b[0m\u001b[1;33m.\u001b[0m\u001b[0mCOLOR_BGR2RGB\u001b[0m\u001b[1;33m)\u001b[0m\u001b[1;33m)\u001b[0m\u001b[1;33m\u001b[0m\u001b[1;33m\u001b[0m\u001b[0m\n\u001b[1;32m---> 17\u001b[1;33m         \u001b[0mprint\u001b[0m\u001b[1;33m(\u001b[0m\u001b[0mget_sequence\u001b[0m\u001b[1;33m(\u001b[0m\u001b[0mcolor_image_rgb\u001b[0m\u001b[1;33m,\u001b[0m\u001b[1;34m'Y'\u001b[0m\u001b[1;33m)\u001b[0m\u001b[1;33m)\u001b[0m\u001b[1;33m\u001b[0m\u001b[1;33m\u001b[0m\u001b[0m\n\u001b[0m\u001b[0;32m     18\u001b[0m \u001b[1;33m\u001b[0m\u001b[0m\n\u001b[0;32m     19\u001b[0m     \u001b[0mcap\u001b[0m\u001b[1;33m.\u001b[0m\u001b[0mrelease\u001b[0m\u001b[1;33m(\u001b[0m\u001b[1;33m)\u001b[0m\u001b[1;33m\u001b[0m\u001b[1;33m\u001b[0m\u001b[0m\n",
      "\u001b[1;32m<ipython-input-131-2c8b1a81429c>\u001b[0m in \u001b[0;36mget_sequence\u001b[1;34m(image, side)\u001b[0m\n\u001b[0;32m     13\u001b[0m         \u001b[0mdilatation\u001b[0m \u001b[1;33m=\u001b[0m \u001b[0mcv2\u001b[0m\u001b[1;33m.\u001b[0m\u001b[0mdilate\u001b[0m\u001b[1;33m(\u001b[0m\u001b[0mopening\u001b[0m\u001b[1;33m,\u001b[0m\u001b[0mkernel\u001b[0m\u001b[1;33m,\u001b[0m\u001b[0miterations\u001b[0m \u001b[1;33m=\u001b[0m \u001b[1;36m1\u001b[0m\u001b[1;33m)\u001b[0m\u001b[1;33m\u001b[0m\u001b[1;33m\u001b[0m\u001b[0m\n\u001b[0;32m     14\u001b[0m \u001b[1;33m\u001b[0m\u001b[0m\n\u001b[1;32m---> 15\u001b[1;33m         \u001b[0mv\u001b[0m \u001b[1;33m=\u001b[0m \u001b[0mget_final_mask\u001b[0m\u001b[1;33m(\u001b[0m\u001b[0mr\u001b[0m\u001b[1;33m,\u001b[0m\u001b[0mdilatation\u001b[0m\u001b[1;33m)\u001b[0m\u001b[1;33m\u001b[0m\u001b[1;33m\u001b[0m\u001b[0m\n\u001b[0m\u001b[0;32m     16\u001b[0m         \u001b[0mplt\u001b[0m\u001b[1;33m.\u001b[0m\u001b[0mimshow\u001b[0m\u001b[1;33m(\u001b[0m\u001b[0mv\u001b[0m\u001b[1;33m)\u001b[0m\u001b[1;33m\u001b[0m\u001b[1;33m\u001b[0m\u001b[0m\n\u001b[0;32m     17\u001b[0m \u001b[1;33m\u001b[0m\u001b[0m\n",
      "\u001b[1;32m<ipython-input-62-e621387a5cf0>\u001b[0m in \u001b[0;36mget_final_mask\u001b[1;34m(r, dilatation)\u001b[0m\n\u001b[0;32m      3\u001b[0m     \u001b[1;32mfor\u001b[0m \u001b[0mk\u001b[0m \u001b[1;32min\u001b[0m \u001b[0mrange\u001b[0m\u001b[1;33m(\u001b[0m\u001b[0mlen\u001b[0m\u001b[1;33m(\u001b[0m\u001b[0mr\u001b[0m\u001b[1;33m)\u001b[0m\u001b[1;33m)\u001b[0m\u001b[1;33m:\u001b[0m\u001b[1;33m\u001b[0m\u001b[1;33m\u001b[0m\u001b[0m\n\u001b[0;32m      4\u001b[0m         \u001b[1;32mfor\u001b[0m \u001b[0mi\u001b[0m \u001b[1;32min\u001b[0m \u001b[0mrange\u001b[0m\u001b[1;33m(\u001b[0m\u001b[0mlen\u001b[0m\u001b[1;33m(\u001b[0m\u001b[0mr\u001b[0m\u001b[1;33m[\u001b[0m\u001b[1;36m0\u001b[0m\u001b[1;33m]\u001b[0m\u001b[1;33m)\u001b[0m\u001b[1;33m)\u001b[0m\u001b[1;33m:\u001b[0m\u001b[1;33m\u001b[0m\u001b[1;33m\u001b[0m\u001b[0m\n\u001b[1;32m----> 5\u001b[1;33m             \u001b[1;32mif\u001b[0m\u001b[1;33m(\u001b[0m\u001b[0mdilatation\u001b[0m\u001b[1;33m[\u001b[0m\u001b[0mk\u001b[0m\u001b[1;33m]\u001b[0m\u001b[1;33m[\u001b[0m\u001b[0mi\u001b[0m\u001b[1;33m]\u001b[0m\u001b[1;33m[\u001b[0m\u001b[1;36m0\u001b[0m\u001b[1;33m]\u001b[0m \u001b[1;33m==\u001b[0m \u001b[1;36m255\u001b[0m\u001b[1;33m)\u001b[0m\u001b[1;33m:\u001b[0m\u001b[1;33m\u001b[0m\u001b[1;33m\u001b[0m\u001b[0m\n\u001b[0m\u001b[0;32m      6\u001b[0m                 \u001b[0mv\u001b[0m\u001b[1;33m[\u001b[0m\u001b[0mk\u001b[0m\u001b[1;33m]\u001b[0m\u001b[1;33m[\u001b[0m\u001b[0mi\u001b[0m\u001b[1;33m]\u001b[0m \u001b[1;33m=\u001b[0m \u001b[1;33m[\u001b[0m\u001b[1;36m0\u001b[0m\u001b[1;33m,\u001b[0m\u001b[1;36m255\u001b[0m\u001b[1;33m,\u001b[0m\u001b[1;36m0\u001b[0m\u001b[1;33m]\u001b[0m\u001b[1;33m\u001b[0m\u001b[1;33m\u001b[0m\u001b[0m\n\u001b[0;32m      7\u001b[0m             \u001b[1;32melif\u001b[0m\u001b[1;33m(\u001b[0m\u001b[0mr\u001b[0m\u001b[1;33m[\u001b[0m\u001b[0mk\u001b[0m\u001b[1;33m]\u001b[0m\u001b[1;33m[\u001b[0m\u001b[0mi\u001b[0m\u001b[1;33m]\u001b[0m\u001b[1;33m[\u001b[0m\u001b[1;36m0\u001b[0m\u001b[1;33m]\u001b[0m \u001b[1;33m==\u001b[0m \u001b[1;36m255\u001b[0m\u001b[1;33m)\u001b[0m\u001b[1;33m:\u001b[0m\u001b[1;33m\u001b[0m\u001b[1;33m\u001b[0m\u001b[0m\n",
      "\u001b[1;31mKeyboardInterrupt\u001b[0m: "
     ]
    },
    {
     "data": {
      "image/png": "[encoded data removed]",
      "text/plain": [
       "<Figure size 432x288 with 1 Axes>"
      ]
     },
     "metadata": {
      "needs_background": "light"
     },
     "output_type": "display_data"
    }
   ],
   "source": [
    "cap = cv2.VideoCapture(1)\n",
    "\n",
    "#Check whether user selected camera is opened successfully.\n",
    "\n",
    "if not (cap.isOpened()):\n",
    "\n",
    "    print('Could not open video device')\n",
    "\n",
    "\n",
    "    \n",
    "else:\n",
    "\n",
    "    while True:\n",
    "    \n",
    "        ret, color = cap.read()\n",
    "        color_image_rgb =np.array(cv2.cvtColor(color, cv2.COLOR_BGR2RGB))\n",
    "        print(get_sequence(color_image_rgb,'Y'))\n",
    "        \n",
    "    cap.release()\n",
    "\n",
    "    cv2.destroyAllWindows()"
   ]
  },
  {
   "cell_type": "code",
   "execution_count": 130,
   "metadata": {},
   "outputs": [],
   "source": [
    "#Relacher la caméra si on s'est arrèté brutalement\n",
    "cap.release()"
   ]
  },
  {
   "cell_type": "code",
   "execution_count": 132,
   "metadata": {},
   "outputs": [
    {
     "name": "stdout",
     "output_type": "stream",
     "text": [
      "0.05\n",
      "1\n",
      "['V', 'R', 'V', 'R', 'R']\n"
     ]
    },
    {
     "data": {
      "image/png": "[encoded data removed]",
      "text/plain": [
       "<Figure size 432x288 with 1 Axes>"
      ]
     },
     "metadata": {
      "needs_background": "light"
     },
     "output_type": "display_data"
    }
   ],
   "source": [
    "color_image_rgb = plt.imread('test1.jpg')\n",
    "print(get_sequence(color_image_rgb,'Y'))"
   ]
  },
  {
   "cell_type": "code",
   "execution_count": 131,
   "metadata": {},
   "outputs": [],
   "source": [
    "def get_sequence(image,side):\n",
    "    \n",
    "    #Renvoie la bande de l'image originelle ou il y a les verres rouges et le masque de verres rouges dans cette bande\n",
    "    img2,r = get_red_mask(image)\n",
    "    \n",
    "    for q in [0.05,0.1,0.2]:\n",
    "        #Renvoie le mask des verres vert\n",
    "        opening = get_green_mask(img2)\n",
    "\n",
    "        #Dilatation du green mask\n",
    "        kernel = cv2.getStructuringElement(cv2.MORPH_RECT,(1,500))\n",
    "        dilatation = cv2.dilate(opening,kernel,iterations = 1)\n",
    "\n",
    "        v = get_final_mask(r,dilatation)\n",
    "        plt.imshow(v)\n",
    "\n",
    "        ligne = v[len(v)//2]\n",
    "\n",
    "        pattern = get_pattern_1(v,side)\n",
    "\n",
    "        if pattern_is_valid(pattern,side):\n",
    "            return pattern\n",
    "\n",
    "        if not pattern_is_valid(pattern,side):\n",
    "\n",
    "            pattern = get_pattern_2(v,side)\n",
    "\n",
    "            if pattern_is_valid(pattern,side):\n",
    "                return pattern\n",
    "\n",
    "\n",
    "            if not pattern_is_valid(pattern,side):\n",
    "                kernel = np.ones((20,20),np.uint8)\n",
    "                r = cv2.morphologyEx(r, cv2.MORPH_OPEN, kernel)\n",
    "                v = get_final_mask(r,opening)\n",
    "\n",
    "                pattern = get_pattern_2(v,side)\n",
    "                if pattern_is_valid(pattern,side):\n",
    "                    return(pattern)\n",
    "\n",
    "\n",
    "            if not pattern_is_valid(pattern,side):\n",
    "                ma = 0\n",
    "                mi = len(ligne)\n",
    "                for k in range(len(ligne)):\n",
    "                    if not(ligne[k][0] == 0 and ligne[k][1] == 0 and ligne[k][2] == 0):\n",
    "                        if(ma < k):\n",
    "                            ma = k\n",
    "                        if(mi > k):\n",
    "                            mi = k\n",
    "                interval = (ma-mi)//10\n",
    "                for j in range (len(v)//10,len(v),interval):\n",
    "                    pattern =[]\n",
    "                    ligne = v[j]\n",
    "\n",
    "                    for k in range(5):\n",
    "\n",
    "                        if(v[j][mi+interval*(2*k+1)][0] == 255):\n",
    "                            pattern +=['R']\n",
    "                        if(v[j][mi+interval*(2*k+1)][1] == 255):\n",
    "                            pattern +=['V']\n",
    "\n",
    "                    if pattern_is_valid(pattern,side):\n",
    "                        return pattern\n",
    "            \n",
    "    if  pattern_is_valid(pattern,side):\n",
    "        return pattern\n",
    "    else:\n",
    "        return 'Echec'\n"
   ]
  },
  {
   "cell_type": "code",
   "execution_count": 102,
   "metadata": {},
   "outputs": [],
   "source": [
    "def pattern_is_valid(pattern,side):\n",
    "    valid_pattern = []\n",
    "    if(side == 'Y'):\n",
    "        valid_pattern = [['V','R','R','V','R'],['V','R','V','R','R'],['V','V','R','R','R']]\n",
    "    elif(side == 'B'):\n",
    "        valid_pattern = [['V','R','V','V','R'],['V','V','R','V','R'],['V','V','V','R','R']]\n",
    "    else:\n",
    "        print('Side non valide. Codes valides : Y, B')\n",
    "    if(pattern in valid_pattern):\n",
    "        return(True)\n",
    "    else:\n",
    "        return(False)\n",
    "    "
   ]
  },
  {
   "cell_type": "code",
   "execution_count": 60,
   "metadata": {},
   "outputs": [],
   "source": [
    "def get_red_mask(image):\n",
    "    max_l = 480\n",
    "    min_l = 0\n",
    "    img = copy.deepcopy(image)\n",
    "    for k in range(image.shape[0]):\n",
    "        for j in range(image.shape[1]):\n",
    "            if (image[k][j][0]>image[k][j][1]*2 and image[k][j][0] > image[k][j][2]*2):\n",
    "                img[k][j] =255\n",
    "                if(k < max_l):\n",
    "                    max_l = k\n",
    "                if(k > min_l):\n",
    "                    min_l = k\n",
    "            else:\n",
    "                img[k][j] =0\n",
    "    i = copy.deepcopy(image)[max_l:min_l]\n",
    "    r =img[max_l:min_l]\n",
    "    kernel = np.ones((20,20),np.uint8)\n",
    "    r = cv2.morphologyEx(r, cv2.MORPH_OPEN, kernel)\n",
    "    return(i,r)"
   ]
  },
  {
   "cell_type": "code",
   "execution_count": 121,
   "metadata": {},
   "outputs": [],
   "source": [
    "def get_green_mask(img2,q = 1.1):\n",
    "    for k in range(img2.shape[0]):\n",
    "        for j in range(img2.shape[1]):\n",
    "            if (img2[k][j][1]>img2[k][j][0]*q*1.5 and img2[k][j][1] > img2[k][j][2]*q ):\n",
    "                img2[k][j] =255\n",
    "            else:\n",
    "                img2[k][j] =0\n",
    "    kernel = np.ones((20,20),np.uint8)\n",
    "    opening = cv2.morphologyEx(img2, cv2.MORPH_OPEN, kernel)\n",
    "    return(opening)"
   ]
  },
  {
   "cell_type": "code",
   "execution_count": 62,
   "metadata": {},
   "outputs": [],
   "source": [
    "def get_final_mask(r,dilatation):\n",
    "    v = copy.deepcopy(dilatation)\n",
    "    for k in range(len(r)):\n",
    "        for i in range(len(r[0])):\n",
    "            if(dilatation[k][i][0] == 255):\n",
    "                v[k][i] = [0,255,0]\n",
    "            elif(r[k][i][0] == 255):\n",
    "                v[k][i] = [255,0,0]\n",
    "            else:\n",
    "                v[k][i] = [0,0,0]\n",
    "    return(v)"
   ]
  },
  {
   "cell_type": "code",
   "execution_count": 118,
   "metadata": {},
   "outputs": [],
   "source": [
    "def get_pattern_1(v,side):\n",
    "    c = 0\n",
    "    for k in range (0,len(v),len(v)//20):\n",
    "        pattern = []\n",
    "        ligne = v[k]\n",
    "        for e in ligne:\n",
    "            if(e[0] == 255):\n",
    "                if(c != 0):\n",
    "                    pattern+=['R']\n",
    "                c = 0\n",
    "            elif e[1] == 255:\n",
    "                if(c != 1):\n",
    "                    pattern+=['V']\n",
    "                c = 1\n",
    "            else:\n",
    "                c = 2\n",
    "        \n",
    "        if pattern_is_valid(pattern,side):\n",
    "            return pattern\n",
    "    return pattern"
   ]
  },
  {
   "cell_type": "code",
   "execution_count": 135,
   "metadata": {},
   "outputs": [],
   "source": [
    "def get_pattern_2(map,side):\n",
    "    ligne = map[len(map)//2]\n",
    "    ma = 0\n",
    "    mi = len(ligne)\n",
    "    for k in range(len(ligne)):\n",
    "        if not(ligne[k][0] == 0 and ligne[k][1] == 0 and ligne[k][2] == 0):\n",
    "            if(ma < k):\n",
    "                ma = k\n",
    "            if(mi > k):\n",
    "                mi = k\n",
    "    interval = (ma-mi)//10\n",
    "    pattern = []\n",
    "    for j in range (len(v)//10,len(v),interval):\n",
    "        pattern =[]\n",
    "        ligne = v[j]\n",
    "\n",
    "        for k in range(5):\n",
    "\n",
    "            if(v[j][mi+interval*(2*k+1)][0] == 255):\n",
    "                pattern +=['R']\n",
    "            if(v[j][mi+interval*(2*k+1)][1] == 255):\n",
    "                pattern +=['V']\n",
    "        if pattern_is_valid(pattern,side):\n",
    "            return pattern\n",
    "    return pattern"
   ]
  },
  {
   "cell_type": "code",
   "execution_count": null,
   "metadata": {},
   "outputs": [],
   "source": []
  }
 ],
 "metadata": {
  "kernelspec": {
   "display_name": "Python 3",
   "language": "python",
   "name": "python3"
  },
  "language_info": {
   "codemirror_mode": {
    "name": "ipython",
    "version": 3
   },
   "file_extension": ".py",
   "mimetype": "text/x-python",
   "name": "python",
   "nbconvert_exporter": "python",
   "pygments_lexer": "ipython3",
   "version": "3.7.3"
  }
 },
 "nbformat": 4,
 "nbformat_minor": 4
}
